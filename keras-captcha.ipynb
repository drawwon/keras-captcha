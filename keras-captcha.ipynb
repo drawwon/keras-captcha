{
 "cells": [
  {
   "cell_type": "code",
   "execution_count": 1,
   "metadata": {},
   "outputs": [
    {
     "name": "stdout",
     "output_type": "stream",
     "text": [
      "0123456789ABCDEFGHIJKLMNOPQRSTUVWXYZ\n"
     ]
    },
    {
     "name": "stderr",
     "output_type": "stream",
     "text": [
      "Using TensorFlow backend.\n"
     ]
    }
   ],
   "source": [
    "from captcha.image import ImageCaptcha\n",
    "import matplotlib.pyplot as plt\n",
    "import numpy as np\n",
    "import random,os\n",
    "import tensorflow as tf\n",
    "%matplotlib inline\n",
    "%config InlineBackend.figure_format = 'retina'\n",
    "import keras\n",
    "from keras import backend as K\n",
    "\n",
    "\n",
    "import string\n",
    "characters = string.digits + string.ascii_uppercase\n",
    "print(characters)\n",
    "\n",
    "width, height, n_len, n_class = 160, 80, 4, len(characters)\n",
    "\n",
    "\n",
    "generator = ImageCaptcha(width=width, height=height)\n",
    "# for i in range(1000):\n",
    "#     random_str = ''.join([random.choice(characters) for j in range(4)])\n",
    "#     img = generator.generate_image(random_str)\n",
    "#     img.save('./pic/'+str(i) +'_'+ random_str + '.jpg')"
   ]
  },
  {
   "cell_type": "code",
   "execution_count": 128,
   "metadata": {},
   "outputs": [],
   "source": [
    "from keras.preprocessing.image import img_to_array,load_img\n",
    "import numpy as np\n",
    "from keras.layers import *\n",
    "from keras.models import Model\n",
    "import cv2 as cv\n",
    "\n",
    "imgs = []\n",
    "labels =[]\n",
    "temp = [[] for i in range(4)]\n",
    "\n",
    "\n",
    "def deal_img(img):\n",
    "#     img = load_img(path,grayscale=True)\n",
    "    img = img_to_array(img).astype(np.uint8)\n",
    "    img = cv.cvtColor(img, cv.COLOR_BGR2GRAY) \n",
    "    img= cv.bilateralFilter(img,9,75,75)\n",
    "    img = cv.Canny(img, 100, 200)\n",
    "    return img.reshape(height,width,1)\n",
    "\n",
    "def gen(batch_size=32):\n",
    "    while True:\n",
    "        imgs=[]\n",
    "        labels = []\n",
    "        for i in range(batch_size):\n",
    "            random_str = ''.join([random.choice(characters) for j in range(4)])\n",
    "            img = generator.generate_image(random_str)\n",
    "            img = deal_img(img)\n",
    "            imgs.append(img)\n",
    "            y=np.zeros((len(characters)*4))\n",
    "            for i,char in enumerate(random_str):\n",
    "                y[characters.find(char)+i*len(characters)] = 1\n",
    "            labels.append(y)   \n",
    "        train_x = np.array(imgs)\n",
    "        train_y = np.array(labels)\n",
    "        yield train_x, train_y\n",
    "    \n",
    "\n",
    "# def deal_img(path):\n",
    "#     img = load_img(path,grayscale=True)\n",
    "#     img = img_to_array(img).astype(np.uint8)\n",
    "#     img= cv.bilateralFilter(img,9,75,75)\n",
    "#     img = cv.Canny(img, 100, 200)\n",
    "#     return img.reshape(height,width,1)/255\n",
    "\n",
    "# for f in os.listdir('./pic/')[:500]:\n",
    "# #     print(type(f))\n",
    "#     if f.endswith('jpg'):\n",
    "#         img = deal_img('./pic/'+f)\n",
    "#         imgs.append(img)\n",
    "#         string = f.split('.')[0].split('_')[1]\n",
    "#         y=np.zeros((len(characters)*4))\n",
    "#         for i,char in enumerate(string):   \n",
    "# #             y=np.zeros((36))\n",
    "# #             y[characters.find(char)] = 1\n",
    "# #             temp[i].append(y)\n",
    "#             y[characters.find(char)+i*len(characters)] = 1\n",
    "#         labels.append(y)\n",
    "# # train_y = [np.array(i) for i in temp]\n",
    "# train_y = np.array(labels)\n",
    "# print(train_y.shape)\n",
    "# # print(imgs[0].shape)\n",
    "# train_x = np.array(imgs)\n",
    "# # print(len(labels))\n",
    "# # train_y = labels\n",
    "# # train_y = np.array(labels)\n",
    "        \n",
    "# input_tensor = Input((height, width, 1))\n",
    "# x = input_tensor\n",
    "# x = Conv2D(64, (3, 3), activation='relu', padding='SAME')(x)\n",
    "# x = Conv2D(64, (3, 3), activation='relu', padding='SAME')(x)\n",
    "# x = MaxPooling2D((2, 2), strides=(2, 2), name='block1_pool')(x)\n",
    "\n",
    "# x = Conv2D(128, (3, 3), activation='relu', padding='SAME')(x)\n",
    "# x = Conv2D(128, (3, 3), activation='relu', padding='SAME')(x)\n",
    "# x = MaxPooling2D((2, 2), strides=(2, 2), name='block2_pool')(x)\n",
    "\n",
    "# # x = Conv2D(256, (3, 3), activation='relu', padding='SAME')(x)\n",
    "# # x = Conv2D(256, (3, 3), activation='relu', padding='SAME')(x)\n",
    "# # x = Conv2D(256, (3, 3), activation='relu', padding='SAME')(x)\n",
    "# # x = MaxPooling2D((2, 2), strides=(2, 2), name='block3_pool')(x)\n",
    "\n",
    "# # x = Conv2D(512, (3, 3), activation='relu', padding='SAME')(x)\n",
    "# # x = Conv2D(512, (3, 3), activation='relu', padding='SAME')(x)\n",
    "# # x = Conv2D(512, (3, 3), activation='relu', padding='SAME')(x)\n",
    "# # x = MaxPooling2D((2, 2),strides=(2,2), padding='SAME', name='block4_pool')(x)\n",
    "\n",
    "# # x = Conv2D(512, (3, 3), activation='relu', padding='SAME')(x)\n",
    "# # x = Conv2D(512, (3, 3), activation='relu', padding='SAME')(x)\n",
    "# # x = Conv2D(512, (3, 3), activation='relu', padding='SAME')(x)\n",
    "# # x = MaxPooling2D((2, 2), strides=(2, 2), name='block5_pool')(x)\n",
    "\n",
    "# x = Flatten()(x)\n",
    "# x = Dense(1024,activation='relu')(x)\n",
    "# # x = Dense(1024,activation='relu')(x)\n",
    "\n",
    "# # x = Dropout(0.3)(x)\n",
    "# x = [Dense(n_class, activation='softmax', name='c%d'%(i+1))(x) for i in range(4)]\n",
    "# x = concatenate(x)\n",
    "\n",
    "# model = Model(inputs=input_tensor, outputs=x)\n",
    "\n",
    "\n",
    "\n",
    "input_tensor = Input( shape=(height, width, 1))\n",
    "x = input_tensor\n",
    "\n",
    "#构建卷积网络\n",
    "#两层卷积层，一层池化层，重复3次。因为生成的验证码比较小，padding使用same\n",
    "x = Convolution2D(32, 3, padding='same', activation='relu')(input_tensor)\n",
    "x = Convolution2D(32, 3, padding='same', activation='relu')(x)\n",
    "x = MaxPooling2D((2, 2))(x)\n",
    "\n",
    "\n",
    "x = Convolution2D(64, 3, padding='same', activation='relu')(x)\n",
    "x = Convolution2D(64, 3, padding='same', activation='relu')(x)\n",
    "x = MaxPooling2D((2, 2))(x)\n",
    "\n",
    "x = Convolution2D(128, 3, padding='same', activation='relu')(x)\n",
    "x = Convolution2D(128, 3, padding='same',activation='relu')(x)\n",
    "x = MaxPooling2D((2, 2))(x)\n",
    "\n",
    "#Flatten层用来将输入“压平”，即把多维的输入一维化，常用在从卷积层到全连接层的过渡。\n",
    "x = Flatten()(x)\n",
    "#为输入数据施加Dropout。Dropout将在训练过程中每次更新参数时随机断开一定百分比（rate）的输入神经元，Dropout层用于防止过拟合。\n",
    "# x = Dense(128,activation='relu')(x)\n",
    "# x = Dense(128,activation='relu')(x)\n",
    "x = Dropout(0.25)(x)\n",
    "\n",
    "\n",
    "#Dense就是常用的全连接层\n",
    "#最后连接5个分类器，每个分类器是46个神经元，分别输出46个字符的概率。\n",
    "x = [Dense(len(characters), activation='softmax', name='c%d'%(i+1))(x) for i in range(n_len)]\n",
    "output = concatenate(x)\n",
    "model = Model(inputs=input_tensor, outputs=output)\n",
    "    \n"
   ]
  },
  {
   "cell_type": "code",
   "execution_count": 129,
   "metadata": {},
   "outputs": [
    {
     "data": {
      "text/plain": [
       "<matplotlib.image.AxesImage at 0x7f2cc9bd7a20>"
      ]
     },
     "execution_count": 129,
     "metadata": {},
     "output_type": "execute_result"
    },
    {
     "data": {
      "image/png": "[encoded data removed]",
      "text/plain": [
       "<Figure size 432x288 with 1 Axes>"
      ]
     },
     "metadata": {
      "image/png": {
       "height": 201,
       "width": 370
      }
     },
     "output_type": "display_data"
    },
    {
     "data": {
      "image/png": "[encoded data removed]",
      "text/plain": [
       "<Figure size 432x288 with 1 Axes>"
      ]
     },
     "metadata": {
      "image/png": {
       "height": 201,
       "width": 370
      }
     },
     "output_type": "display_data"
    }
   ],
   "source": [
    "img,y = next(gen(1))\n",
    "np.set_printoptions(threshold=np.inf)\n",
    "img1 = np.copy(img)\n",
    "img1[img<150]=0\n",
    "img1[img>220]=255\n",
    "plt.imshow(img.reshape((80,160)),cmap='gray')\n",
    "plt.figure()\n",
    "plt.imshow(img1.reshape((80,160)),cmap='gray')\n",
    "\n",
    "# img[0][20]"
   ]
  },
  {
   "cell_type": "code",
   "execution_count": 130,
   "metadata": {},
   "outputs": [
    {
     "name": "stdout",
     "output_type": "stream",
     "text": [
      "__________________________________________________________________________________________________\n",
      "Layer (type)                    Output Shape         Param #     Connected to                     \n",
      "==================================================================================================\n",
      "input_17 (InputLayer)           (None, 80, 160, 1)   0                                            \n",
      "__________________________________________________________________________________________________\n",
      "conv2d_85 (Conv2D)              (None, 80, 160, 32)  320         input_17[0][0]                   \n",
      "__________________________________________________________________________________________________\n",
      "conv2d_86 (Conv2D)              (None, 80, 160, 32)  9248        conv2d_85[0][0]                  \n",
      "__________________________________________________________________________________________________\n",
      "max_pooling2d_31 (MaxPooling2D) (None, 40, 80, 32)   0           conv2d_86[0][0]                  \n",
      "__________________________________________________________________________________________________\n",
      "conv2d_87 (Conv2D)              (None, 40, 80, 64)   18496       max_pooling2d_31[0][0]           \n",
      "__________________________________________________________________________________________________\n",
      "conv2d_88 (Conv2D)              (None, 40, 80, 64)   36928       conv2d_87[0][0]                  \n",
      "__________________________________________________________________________________________________\n",
      "max_pooling2d_32 (MaxPooling2D) (None, 20, 40, 64)   0           conv2d_88[0][0]                  \n",
      "__________________________________________________________________________________________________\n",
      "conv2d_89 (Conv2D)              (None, 20, 40, 128)  73856       max_pooling2d_32[0][0]           \n",
      "__________________________________________________________________________________________________\n",
      "conv2d_90 (Conv2D)              (None, 20, 40, 128)  147584      conv2d_89[0][0]                  \n",
      "__________________________________________________________________________________________________\n",
      "max_pooling2d_33 (MaxPooling2D) (None, 10, 20, 128)  0           conv2d_90[0][0]                  \n",
      "__________________________________________________________________________________________________\n",
      "flatten_17 (Flatten)            (None, 25600)        0           max_pooling2d_33[0][0]           \n",
      "__________________________________________________________________________________________________\n",
      "dropout_8 (Dropout)             (None, 25600)        0           flatten_17[0][0]                 \n",
      "__________________________________________________________________________________________________\n",
      "c1 (Dense)                      (None, 36)           921636      dropout_8[0][0]                  \n",
      "__________________________________________________________________________________________________\n",
      "c2 (Dense)                      (None, 36)           921636      dropout_8[0][0]                  \n",
      "__________________________________________________________________________________________________\n",
      "c3 (Dense)                      (None, 36)           921636      dropout_8[0][0]                  \n",
      "__________________________________________________________________________________________________\n",
      "c4 (Dense)                      (None, 36)           921636      dropout_8[0][0]                  \n",
      "__________________________________________________________________________________________________\n",
      "concatenate_17 (Concatenate)    (None, 144)          0           c1[0][0]                         \n",
      "                                                                 c2[0][0]                         \n",
      "                                                                 c3[0][0]                         \n",
      "                                                                 c4[0][0]                         \n",
      "==================================================================================================\n",
      "Total params: 3,972,976\n",
      "Trainable params: 3,972,976\n",
      "Non-trainable params: 0\n",
      "__________________________________________________________________________________________________\n"
     ]
    }
   ],
   "source": [
    "model.summary()"
   ]
  },
  {
   "cell_type": "code",
   "execution_count": null,
   "metadata": {},
   "outputs": [
    {
     "name": "stdout",
     "output_type": "stream",
     "text": [
      "Epoch 1/2\n",
      "  962/10000 [=>............................] - ETA: 5:31:43 - loss: 15.7696 - my_acc: 0.0696"
     ]
    }
   ],
   "source": [
    "tf_session = K.get_session()\n",
    "\n",
    "def my_acc(y_true, y_pred):\n",
    "    predict = tf.reshape(y_pred, [-1, n_len, len(characters)])\n",
    "    max_idx_p = tf.argmax(predict, 2)\n",
    "    max_idx_l = tf.argmax(tf.reshape(y_true, [-1,n_len, len(characters)]), 2)\n",
    "    correct_pred = tf.reduce_all(tf.equal(max_idx_p, max_idx_l),axis=1)\n",
    "    return tf.reduce_mean(tf.cast(correct_pred, tf.float32))\n",
    "\n",
    "def my_loss(y_true, y_pred):\n",
    "    predict = tf.reshape(y_pred, [-1, n_len, len(characters)])\n",
    "    y_true = tf.reshape(y_true, [-1, n_len, len(characters)])\n",
    "    a,b = [[] for i in range(n_len)],[[] for i in range(n_len)]\n",
    "    loss=0\n",
    "    for i in range(n_len):\n",
    "        a[i] = tf.reshape(predict[:,i,:],(-1,len(characters)))\n",
    "        b[i] = tf.reshape(y_true[:,i,:],(-1,len(characters)))\n",
    "        loss += K.categorical_crossentropy(a[i],b[i])\n",
    "    \n",
    "#     max_idx_p,max_idx_l = [[] for i in range(n_len)],[[] for i in range(n_len)]\n",
    "#     for i in range(n_len):\n",
    "#         max_idx_p[i] = K.one_hot(tf.argmax(predict, 2)[:,i],len(characters))\n",
    "#         max_idx_l[i] = K.one_hot(tf.argmax(tf.reshape(y_true, [-1,n_len, len(characters)]), 2)[:,i],len(characters))\n",
    "#         loss+= K.categorical_crossentropy(max_idx_p[i],max_idx_l[i])\n",
    "#     return loss\n",
    "\n",
    "#     max_idx_p = K.one_hot(tf.argmax(predict, 2),len(characters))\n",
    "#     max_idx_l = K.one_hot(tf.argmax(tf.reshape(y_true, [-1,n_len, len(characters)]), 2),len(characters))\n",
    "    return loss\n",
    "\n",
    "optimizer = tf.train.AdamOptimizer(learning_rate=0.1)\n",
    "model.compile(#loss = my_loss,\n",
    "              loss='categorical_crossentropy',\n",
    "              optimizer='adam',\n",
    "              metrics=[my_acc])\n",
    "checkpointer = keras.callbacks.ModelCheckpoint(filepath=\"output/weights.{epoch:02d}--{val_loss:.2f}-{val_my_acc:.4f}.hdf5\", \n",
    "                               verbose=2, save_weights_only=True)\n",
    "# for i in range(10):\n",
    "model.fit_generator(gen(64),steps_per_epoch=10000,epochs=2,verbose=1,validation_data=gen(100),validation_steps=1,callbacks=[checkpointer])"
   ]
  },
  {
   "cell_type": "code",
   "execution_count": null,
   "metadata": {},
   "outputs": [],
   "source": [
    "def decode_str(result):\n",
    "    strings =[]\n",
    "    for s in range(result.shape[0]):\n",
    "        string = [characters[result[s,i*len(characters):(i+1)*len(characters)].argmax()] for i in range(n_len)]\n",
    "        strings.append(string)\n",
    "    return [''.join(string) for string in strings]"
   ]
  },
  {
   "cell_type": "code",
   "execution_count": null,
   "metadata": {},
   "outputs": [],
   "source": [
    "x,y = next(gen(100))\n",
    "true_label = decode_str(y)"
   ]
  },
  {
   "cell_type": "code",
   "execution_count": 21,
   "metadata": {},
   "outputs": [
    {
     "name": "stdout",
     "output_type": "stream",
     "text": [
      "100/100 [==============================] - 1s 11ms/step\n",
      "100/100 [==============================] - 1s 12ms/step\n"
     ]
    }
   ],
   "source": [
    "score = model.evaluate(x,y)\n",
    "result = model.predict(x,batch_size=32,verbose=1)"
   ]
  },
  {
   "cell_type": "code",
   "execution_count": 22,
   "metadata": {},
   "outputs": [
    {
     "data": {
      "text/plain": [
       "[18.930751876831053, 0.41]"
      ]
     },
     "execution_count": 22,
     "metadata": {},
     "output_type": "execute_result"
    }
   ],
   "source": [
    "score"
   ]
  },
  {
   "cell_type": "code",
   "execution_count": 63,
   "metadata": {},
   "outputs": [
    {
     "data": {
      "text/plain": [
       "0.48"
      ]
     },
     "execution_count": 63,
     "metadata": {},
     "output_type": "execute_result"
    }
   ],
   "source": [
    "def test_acc(true_label, result):\n",
    "    count = 0\n",
    "    for i,j in zip(true_label,decode_str(result)):\n",
    "        if i==j:\n",
    "            count+=1\n",
    "    return count/len(true_label)\n",
    "test_acc(true_label,result)"
   ]
  },
  {
   "cell_type": "code",
   "execution_count": 167,
   "metadata": {},
   "outputs": [],
   "source": [
    "true = [train_y[i][0].argmax() for i in range(4)]"
   ]
  },
  {
   "cell_type": "code",
   "execution_count": 40,
   "metadata": {},
   "outputs": [
    {
     "data": {
      "text/plain": [
       "'8WZF'"
      ]
     },
     "execution_count": 40,
     "metadata": {},
     "output_type": "execute_result"
    }
   ],
   "source": [
    "''.join([characters[i] for i in true])"
   ]
  },
  {
   "cell_type": "code",
   "execution_count": null,
   "metadata": {},
   "outputs": [],
   "source": []
  }
 ],
 "metadata": {
  "kernelspec": {
   "display_name": "Python 3",
   "language": "python",
   "name": "python3"
  },
  "language_info": {
   "codemirror_mode": {
    "name": "ipython",
    "version": 3
   },
   "file_extension": ".py",
   "mimetype": "text/x-python",
   "name": "python",
   "nbconvert_exporter": "python",
   "pygments_lexer": "ipython3",
   "version": "3.6.2"
  }
 },
 "nbformat": 4,
 "nbformat_minor": 2
}
